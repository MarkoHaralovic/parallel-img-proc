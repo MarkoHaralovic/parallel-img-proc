{
  "cells": [
    {
      "cell_type": "markdown",
      "metadata": {
        "id": "JxmG_268XI2D"
      },
      "source": [
        "## Loading MNIST dataset"
      ]
    },
    {
      "cell_type": "code",
      "execution_count": null,
      "metadata": {
        "id": "xA3GbS7uXIjj"
      },
      "outputs": [],
      "source": [
        "import pickle\n",
        "import gzip\n",
        "import numpy as np\n",
        "import cv2  # Import OpenCV\n",
        "\n",
        "def load_data():\n",
        "    \"\"\"Return the MNIST data as a tuple containing the training data,\n",
        "    the validation data, and the test data.\"\"\"\n",
        "    with gzip.open('./mnist.pkl.gz', 'rb') as f:\n",
        "        # Specify the encoding as 'latin1' for compatibility with Python 2 pickles\n",
        "        training_data, validation_data, test_data = pickle.load(f, encoding='latin1')\n",
        "    return (training_data, validation_data, test_data)\n",
        "\n",
        "def resize_image(image_array, size=(128, 128)):\n",
        "    \"\"\"Resize the image array to the specified size using OpenCV.\"\"\"\n",
        "    image = image_array.reshape(28, 28)  # Original MNIST image shape\n",
        "    resized_image = cv2.resize(image, size, interpolation=cv2.INTER_AREA)\n",
        "    resized_image = resized_image.astype(np.float32)  # Ensure it's in the correct format\n",
        "    resized_image /= 255.0  # Normalize to [0, 1]\n",
        "    return resized_image.reshape(size[0] * size[1], 1)\n",
        "\n",
        "def load_data_wrapper():\n",
        "    \"\"\"Return a tuple containing ``(training_data, validation_data,\n",
        "    test_data)``. Based on ``load_data``, but the format is more\n",
        "    convenient for use in our implementation of neural networks.\"\"\"\n",
        "    tr_d, va_d, te_d = load_data()\n",
        "    training_inputs = [resize_image(x) for x in tr_d[0]]\n",
        "    training_results = [vectorized_result(y) for y in tr_d[1]]\n",
        "    training_data = list(zip(training_inputs, training_results))\n",
        "    validation_inputs = [resize_image(x) for x in va_d[0]]\n",
        "    validation_data = list(zip(validation_inputs, va_d[1]))\n",
        "    test_inputs = [resize_image(x) for x in te_d[0]]\n",
        "    test_data = list(zip(test_inputs, te_d[1]))\n",
        "    return (training_data, validation_data, test_data)\n",
        "\n",
        "def vectorized_result(j):\n",
        "    \"\"\"Return a 10-dimensional unit vector with a 1.0 in the jth\n",
        "    position and zeroes elsewhere.  This is used to convert a digit\n",
        "    (0...9) into a corresponding desired output from the neural\n",
        "    network.\"\"\"\n",
        "    e = np.zeros((10, 1))\n",
        "    e[j] = 1.0\n",
        "    return e"
      ]
    },
    {
      "cell_type": "markdown",
      "metadata": {
        "id": "zt3IFUmEXWyH"
      },
      "source": [
        "## Model"
      ]
    },
    {
      "cell_type": "code",
      "execution_count": null,
      "metadata": {
        "id": "7UKLmQeKRQSS"
      },
      "outputs": [],
      "source": [
        "import random\n",
        "import numpy as np\n",
        "\n",
        "class Network(object):\n",
        "\n",
        "    def __init__(self, sizes):\n",
        "        \"\"\"The list ``sizes`` contains the number of neurons in the\n",
        "        respective layers of the network.  For example, if the list\n",
        "        was [2, 3, 1] then it would be a three-layer network, with the\n",
        "        first layer containing 2 neurons, the second layer 3 neurons,\n",
        "        and the third layer 1 neuron.  The biases and weights for the\n",
        "        network are initialized randomly, using a Gaussian\n",
        "        distribution with mean 0, and variance 1.  Note that the first\n",
        "        layer is assumed to be an input layer, and by convention we\n",
        "        won't set any biases for those neurons, since biases are only\n",
        "        ever used in computing the outputs from later layers.\"\"\"\n",
        "        self.num_layers = len(sizes)\n",
        "        self.sizes = sizes\n",
        "        self.biases = [np.random.randn(y, 1) for y in sizes[1:]]\n",
        "        self.weights = [np.random.randn(y, x)\n",
        "                        for x, y in zip(sizes[:-1], sizes[1:])]\n",
        "\n",
        "    def feedforward(self, a):\n",
        "        \"\"\"Return the output of the network if ``a`` is input.\"\"\"\n",
        "        for b, w in zip(self.biases, self.weights):\n",
        "            a = sigmoid(np.dot(w, a)+b)\n",
        "        return a\n",
        "\n",
        "    def SGD(self, training_data, epochs, mini_batch_size, eta,\n",
        "            test_data=None):\n",
        "        \"\"\"Train the neural network using mini-batch stochastic\n",
        "        gradient descent.  The ``training_data`` is a list of tuples\n",
        "        ``(x, y)`` representing the training inputs and the desired\n",
        "        outputs.  The other non-optional parameters are\n",
        "        self-explanatory.  If ``test_data`` is provided then the\n",
        "        network will be evaluated against the test data after each\n",
        "        epoch, and partial progress printed out.  This is useful for\n",
        "        tracking progress, but slows things down substantially.\"\"\"\n",
        "        if test_data: n_test = len(test_data)\n",
        "        n = len(training_data)\n",
        "        for j in range(epochs):\n",
        "            random.shuffle(training_data)\n",
        "            mini_batches = [\n",
        "                training_data[k:k+mini_batch_size]\n",
        "                for k in range(0, n, mini_batch_size)]\n",
        "            for mini_batch in mini_batches:\n",
        "                self.update_mini_batch(mini_batch, eta)\n",
        "            if test_data:\n",
        "                print(\"Epoch {0}: {1} / {2}\".format(\n",
        "                    j, self.evaluate(test_data), n_test))\n",
        "            else:\n",
        "                print(\"Epoch {0} complete\".format(j))\n",
        "\n",
        "    def update_mini_batch(self, mini_batch, eta):\n",
        "        \"\"\"Update the network's weights and biases by applying\n",
        "        gradient descent using backpropagation to a single mini batch.\n",
        "        The ``mini_batch`` is a list of tuples ``(x, y)``, and ``eta``\n",
        "        is the learning rate.\"\"\"\n",
        "        nabla_b = [np.zeros(b.shape) for b in self.biases]\n",
        "        nabla_w = [np.zeros(w.shape) for w in self.weights]\n",
        "        for x, y in mini_batch:\n",
        "            delta_nabla_b, delta_nabla_w = self.backprop(x, y)\n",
        "            nabla_b = [nb+dnb for nb, dnb in zip(nabla_b, delta_nabla_b)]\n",
        "            nabla_w = [nw+dnw for nw, dnw in zip(nabla_w, delta_nabla_w)]\n",
        "        self.weights = [w-(eta/len(mini_batch))*nw\n",
        "                        for w, nw in zip(self.weights, nabla_w)]\n",
        "        self.biases = [b-(eta/len(mini_batch))*nb\n",
        "                       for b, nb in zip(self.biases, nabla_b)]\n",
        "\n",
        "    def backprop(self, x, y):\n",
        "        \"\"\"Return a tuple ``(nabla_b, nabla_w)`` representing the\n",
        "        gradient for the cost function C_x.  ``nabla_b`` and\n",
        "        ``nabla_w`` are layer-by-layer lists of numpy arrays, similar\n",
        "        to ``self.biases`` and ``self.weights``.\"\"\"\n",
        "        nabla_b = [np.zeros(b.shape) for b in self.biases]\n",
        "        nabla_w = [np.zeros(w.shape) for w in self.weights]\n",
        "        # feedforward\n",
        "        activation = x\n",
        "        activations = [x] # list to store all the activations, layer by layer\n",
        "        zs = [] # list to store all the z vectors, layer by layer\n",
        "        for b, w in zip(self.biases, self.weights):\n",
        "            z = np.dot(w, activation)+b\n",
        "            zs.append(z)\n",
        "            activation = sigmoid(z)\n",
        "            activations.append(activation)\n",
        "        # backward pass\n",
        "        delta = self.cost_derivative(activations[-1], y) * \\\n",
        "            sigmoid_prime(zs[-1])\n",
        "        nabla_b[-1] = delta\n",
        "        nabla_w[-1] = np.dot(delta, activations[-2].transpose())\n",
        "        # Note that the variable l in the loop below is used a little\n",
        "        # differently to the notation in Chapter 2 of the book.  Here,\n",
        "        # l = 1 means the last layer of neurons, l = 2 is the\n",
        "        # second-last layer, and so on.  It's a renumbering of the\n",
        "        # scheme in the book, used here to take advantage of the fact\n",
        "        # that Python can use negative indices in lists.\n",
        "        for l in range(2, self.num_layers):\n",
        "            z = zs[-l]\n",
        "            sp = sigmoid_prime(z)\n",
        "            delta = np.dot(self.weights[-l+1].transpose(), delta) * sp\n",
        "            nabla_b[-l] = delta\n",
        "            nabla_w[-l] = np.dot(delta, activations[-l-1].transpose())\n",
        "        return (nabla_b, nabla_w)\n",
        "\n",
        "    def evaluate(self, test_data):\n",
        "        \"\"\"Return the number of test inputs for which the neural\n",
        "        network outputs the correct result. Note that the neural\n",
        "        network's output is assumed to be the index of whichever\n",
        "        neuron in the final layer has the highest activation.\"\"\"\n",
        "        test_results = [(np.argmax(self.feedforward(x)), y)\n",
        "                        for (x, y) in test_data]\n",
        "        return sum(int(x == y) for (x, y) in test_results)\n",
        "\n",
        "    def cost_derivative(self, output_activations, y):\n",
        "        \"\"\"Return the vector of partial derivatives \\partial C_x /\n",
        "        \\partial a for the output activations.\"\"\"\n",
        "        return (output_activations-y)\n",
        "\n",
        "def sigmoid(z):\n",
        "    \"\"\"The sigmoid function.\"\"\"\n",
        "    return 1.0/(1.0+np.exp(-z))\n",
        "\n",
        "def sigmoid_prime(z):\n",
        "    \"\"\"Derivative of the sigmoid function.\"\"\"\n",
        "    return sigmoid(z)*(1-sigmoid(z))"
      ]
    },
    {
      "cell_type": "code",
      "execution_count": null,
      "metadata": {
        "id": "WQ_-MBbRXkbm"
      },
      "outputs": [],
      "source": [
        "training_data, validation_data, test_data = load_data_wrapper()"
      ]
    },
    {
      "cell_type": "code",
      "source": [
        "import numpy as np\n",
        "import matplotlib.pyplot as plt\n",
        "\n",
        "def display_random_images(training_data, num_images=5):\n",
        "    indices = np.random.choice(len(training_data), num_images, replace=False)\n",
        "\n",
        "    plt.figure(figsize=(10, 10))\n",
        "\n",
        "    for i, idx in enumerate(indices):\n",
        "        image, label = training_data[idx]\n",
        "        image = image.reshape(128, 128)\n",
        "\n",
        "        label_index = np.argmax(label)\n",
        "\n",
        "        plt.subplot(1, num_images, i + 1)\n",
        "        plt.imshow(image, cmap='gray')\n",
        "        plt.title(f\"Label: {label_index}\")\n",
        "        plt.axis('off')\n",
        "\n",
        "    plt.show()\n",
        "\n",
        "display_random_images(training_data, num_images=5)"
      ],
      "metadata": {
        "colab": {
          "base_uri": "https://localhost:8080/",
          "height": 192
        },
        "id": "zEOKJL9ynaZg",
        "outputId": "f9741746-f455-4225-9989-d0fa00e4be9d"
      },
      "execution_count": null,
      "outputs": [
        {
          "output_type": "display_data",
          "data": {
            "text/plain": [
              "<Figure size 1000x1000 with 5 Axes>"
            ],
            "image/png": "[encoded data removed]"
          },
          "metadata": {}
        }
      ]
    },
    {
      "cell_type": "code",
      "execution_count": null,
      "metadata": {
        "id": "bxT4KrDeXyIk"
      },
      "outputs": [],
      "source": [
        "network = Network([128*128, 30, 10])"
      ]
    },
    {
      "cell_type": "code",
      "execution_count": null,
      "metadata": {
        "colab": {
          "base_uri": "https://localhost:8080/"
        },
        "id": "2f1iUFJpYUwp",
        "outputId": "dd7d1b88-8128-4639-91ff-a5e1b25bd890"
      },
      "outputs": [
        {
          "output_type": "stream",
          "name": "stdout",
          "text": [
            "Epoch 0: 1745 / 10000\n",
            "Epoch 1: 4920 / 10000\n",
            "Epoch 2: 6064 / 10000\n",
            "Epoch 3: 7600 / 10000\n",
            "Epoch 4: 8052 / 10000\n",
            "Epoch 5: 7986 / 10000\n",
            "Epoch 6: 8250 / 10000\n",
            "Epoch 7: 8168 / 10000\n",
            "Epoch 8: 8294 / 10000\n",
            "Epoch 9: 8388 / 10000\n",
            "SGD execution time: 1004.14 seconds\n"
          ]
        }
      ],
      "source": [
        "import time\n",
        "start_time = time.time()\n",
        "\n",
        "network.SGD(training_data, 10, 64, 3.0, test_data=test_data)\n",
        "\n",
        "end_time = time.time()\n",
        "elapsed_time = end_time - start_time\n",
        "\n",
        "print(f\"SGD execution time: {elapsed_time:.2f} seconds\")"
      ]
    },
    {
      "cell_type": "code",
      "source": [
        "import time\n",
        "\n",
        "def predict_single_image(network, test_data, index):\n",
        "    x, true_label = test_data[index]\n",
        "\n",
        "    start_time = time.time()\n",
        "    output = network.feedforward(x)\n",
        "    end_time = time.time()\n",
        "\n",
        "    elapsed_time = end_time - start_time\n",
        "    print(f\"Prediction time: {elapsed_time:.5f}\")\n",
        "\n",
        "    predicted_label = np.argmax(output)\n",
        "\n",
        "    return predicted_label, true_label\n",
        "\n",
        "\n",
        "index = 150\n",
        "image = test_data[index][0]\n",
        "label = test_data[index][1]\n",
        "image = image.reshape(28, 28)\n",
        "\n",
        "plt.imshow(image, cmap='gray')\n",
        "plt.title(f\"Label: {label}\")\n",
        "plt.show()\n",
        "\n",
        "predicted_label, true_label = predict_single_image(network, test_data, index)\n",
        "\n",
        "print(f\"Predicted label: {predicted_label}\")\n",
        "print(f\"True label: {true_label}\")\n"
      ],
      "metadata": {
        "colab": {
          "base_uri": "https://localhost:8080/",
          "height": 507
        },
        "id": "clbC8U2vm5TD",
        "outputId": "f8edb7e2-a8f1-4e2c-d4a6-c8cba22da40c"
      },
      "execution_count": null,
      "outputs": [
        {
          "output_type": "display_data",
          "data": {
            "text/plain": [
              "<Figure size 640x480 with 1 Axes>"
            ],
            "image/png": "[encoded data removed]"
          },
          "metadata": {}
        },
        {
          "output_type": "stream",
          "name": "stdout",
          "text": [
            "Prediction time: 0.00600\n",
            "Predicted label: 9\n",
            "True label: 9\n"
          ]
        }
      ]
    },
    {
      "cell_type": "markdown",
      "source": [
        "## Model on GPU"
      ],
      "metadata": {
        "id": "ih82wo8wrKqK"
      }
    },
    {
      "cell_type": "code",
      "source": [
        "import numpy as np\n",
        "import cupy as cp\n",
        "from numba import cuda"
      ],
      "metadata": {
        "id": "9CkwAB0GrL5L"
      },
      "execution_count": null,
      "outputs": []
    },
    {
      "cell_type": "code",
      "source": [
        "import pickle\n",
        "import gzip\n",
        "import numpy as np\n",
        "import cupy as cp\n",
        "import cv2\n",
        "\n",
        "def load_data():\n",
        "    \"\"\"Return the MNIST data as a tuple containing the training data,\n",
        "    the validation data, and the test data.\"\"\"\n",
        "    with gzip.open('./mnist.pkl.gz', 'rb') as f:\n",
        "        # Specify the encoding as 'latin1' for compatibility with Python 2 pickles\n",
        "        training_data, validation_data, test_data = pickle.load(f, encoding='latin1')\n",
        "    return (training_data, validation_data, test_data)\n",
        "\n",
        "def resize_image(image_array, size=(128, 128)):\n",
        "    \"\"\"Resize the image array to the specified size using OpenCV.\"\"\"\n",
        "    image = image_array.reshape(28, 28)  # Original MNIST image shape\n",
        "    resized_image = cv2.resize(image, size, interpolation=cv2.INTER_AREA)\n",
        "    resized_image = resized_image.astype(np.float32)  # Ensure it's in the correct format\n",
        "    resized_image /= 255.0  # Normalize to [0, 1]\n",
        "    return resized_image.reshape(size[0] * size[1], 1)\n",
        "\n",
        "def load_data_wrapper(resize=True, size=(128, 128)):\n",
        "    \"\"\"Return a tuple containing ``(training_data, validation_data,\n",
        "    test_data)``. Based on ``load_data``, but the format is more\n",
        "    convenient for use in our implementation of neural networks on GPU.\"\"\"\n",
        "    tr_d, va_d, te_d = load_data()\n",
        "\n",
        "    if resize:\n",
        "        # Resize the images\n",
        "        tr_d = ([resize_image(x, size) for x in tr_d[0]], tr_d[1])\n",
        "        va_d = ([resize_image(x, size) for x in va_d[0]], va_d[1])\n",
        "        te_d = ([resize_image(x, size) for x in te_d[0]], te_d[1])\n",
        "\n",
        "    # Convert training data to CuPy arrays and reshape\n",
        "    training_inputs = cp.asarray([cp.reshape(x, (size[0] * size[1], 1)) for x in tr_d[0]])\n",
        "    training_results = cp.asarray([vectorized_result(y) for y in tr_d[1]])\n",
        "    training_data = list(zip(training_inputs, training_results))\n",
        "\n",
        "    # Convert validation and test data to CuPy arrays and reshape\n",
        "    validation_inputs = cp.asarray([cp.reshape(x, (size[0] * size[1], 1)) for x in va_d[0]])\n",
        "    validation_data = list(zip(validation_inputs, va_d[1]))\n",
        "    test_inputs = cp.asarray([cp.reshape(x, (size[0] * size[1], 1)) for x in te_d[0]])\n",
        "    test_data = list(zip(test_inputs, te_d[1]))\n",
        "\n",
        "    return (training_data, validation_data, test_data)\n",
        "\n",
        "def vectorized_result(j):\n",
        "    \"\"\"Return a 10-dimensional unit vector with a 1.0 in the jth\n",
        "    position and zeroes elsewhere.  This is used to convert a digit\n",
        "    (0...9) into a corresponding desired output from the neural\n",
        "    network.\"\"\"\n",
        "    e = cp.zeros((10, 1))\n",
        "    e[j] = 1.0\n",
        "    return e"
      ],
      "metadata": {
        "id": "OwpB5Gg8tb9i"
      },
      "execution_count": null,
      "outputs": []
    },
    {
      "cell_type": "code",
      "source": [
        "import random\n",
        "import cupy as cp\n",
        "\n",
        "class Network(object):\n",
        "\n",
        "    def __init__(self, sizes):\n",
        "        \"\"\"The list ``sizes`` contains the number of neurons in the\n",
        "        respective layers of the network. For example, if the list\n",
        "        was [2, 3, 1] then it would be a three-layer network, with the\n",
        "        first layer containing 2 neurons, the second layer 3 neurons,\n",
        "        and the third layer 1 neuron. The biases and weights for the\n",
        "        network are initialized randomly, using a Gaussian\n",
        "        distribution with mean 0, and variance 1. Note that the first\n",
        "        layer is assumed to be an input layer, and by convention we\n",
        "        won't set any biases for those neurons, since biases are only\n",
        "        ever used in computing the outputs from later layers.\"\"\"\n",
        "        self.num_layers = len(sizes)\n",
        "        self.sizes = sizes\n",
        "        self.biases = [cp.random.randn(y, 1) for y in sizes[1:]]\n",
        "        self.weights = [cp.random.randn(y, x) for x, y in zip(sizes[:-1], sizes[1:])]\n",
        "\n",
        "    def feedforward(self, a):\n",
        "        \"\"\"Return the output of the network if ``a`` is input.\"\"\"\n",
        "        for b, w in zip(self.biases, self.weights):\n",
        "            a = sigmoid(cp.dot(w, a) + b)\n",
        "        return a\n",
        "\n",
        "    def SGD(self, training_data, epochs, mini_batch_size, eta, test_data=None):\n",
        "        \"\"\"Train the neural network using mini-batch stochastic\n",
        "        gradient descent. The ``training_data`` is a list of tuples\n",
        "        ``(x, y)`` representing the training inputs and the desired\n",
        "        outputs. The other non-optional parameters are\n",
        "        self-explanatory. If ``test_data`` is provided then the\n",
        "        network will be evaluated against the test data after each\n",
        "        epoch, and partial progress printed out. This is useful for\n",
        "        tracking progress, but slows things down substantially.\"\"\"\n",
        "        if test_data:\n",
        "            n_test = len(test_data)\n",
        "\n",
        "        n = len(training_data)\n",
        "        for j in range(epochs):\n",
        "            random.shuffle(training_data)\n",
        "            mini_batches = [\n",
        "                training_data[k:k + mini_batch_size]\n",
        "                for k in range(0, n, mini_batch_size)]\n",
        "            for mini_batch in mini_batches:\n",
        "                self.update_mini_batch(mini_batch, eta)\n",
        "            if test_data:\n",
        "                print(\"Epoch {0}: {1} / {2}\".format(\n",
        "                    j, self.evaluate(test_data), n_test))\n",
        "            else:\n",
        "                print(\"Epoch {0} complete\".format(j))\n",
        "\n",
        "    def update_mini_batch(self, mini_batch, eta):\n",
        "        \"\"\"Update the network's weights and biases by applying\n",
        "        gradient descent using backpropagation to a single mini batch.\n",
        "        The ``mini_batch`` is a list of tuples ``(x, y)``, and ``eta``\n",
        "        is the learning rate.\"\"\"\n",
        "        mini_batch_size = len(mini_batch)\n",
        "        x_batch = cp.column_stack([x for x, y in mini_batch])\n",
        "        y_batch = cp.column_stack([y for x, y in mini_batch])\n",
        "\n",
        "        nabla_b = [cp.zeros(b.shape) for b in self.biases]\n",
        "        nabla_w = [cp.zeros(w.shape) for w in self.weights]\n",
        "\n",
        "        delta_nabla_b, delta_nabla_w = self.backprop(x_batch, y_batch)\n",
        "        nabla_b = [nb + dnb for nb, dnb in zip(nabla_b, delta_nabla_b)]\n",
        "        nabla_w = [nw + dnw for nw, dnw in zip(nabla_w, delta_nabla_w)]\n",
        "\n",
        "        self.weights = [w - (eta / mini_batch_size) * nw for w, nw in zip(self.weights, nabla_w)]\n",
        "        self.biases = [b - (eta / mini_batch_size) * nb for b, nb in zip(self.biases, nabla_b)]\n",
        "\n",
        "    def backprop(self, x_batch, y_batch):\n",
        "        \"\"\"Return a tuple ``(nabla_b, nabla_w)`` representing the\n",
        "        gradient for the cost function C_x. ``nabla_b`` and\n",
        "        ``nabla_w`` are layer-by-layer lists of numpy arrays, similar\n",
        "        to ``self.biases`` and ``self.weights``.\"\"\"\n",
        "        nabla_b = [cp.zeros(b.shape) for b in self.biases]\n",
        "        nabla_w = [cp.zeros(w.shape) for w in self.weights]\n",
        "        # feedforward\n",
        "        activation = x_batch\n",
        "        activations = [x_batch]  # list to store all the activations, layer by layer\n",
        "        zs = []  # list to store all the z vectors, layer by layer\n",
        "        for b, w in zip(self.biases, self.weights):\n",
        "            z = cp.dot(w, activation) + b\n",
        "            zs.append(z)\n",
        "            activation = sigmoid(z)\n",
        "            activations.append(activation)\n",
        "        # backward pass\n",
        "        delta = self.cost_derivative(activations[-1], y_batch) * sigmoid_prime(zs[-1])\n",
        "        nabla_b[-1] = cp.sum(delta, axis=1, keepdims=True)\n",
        "        nabla_w[-1] = cp.dot(delta, activations[-2].transpose())\n",
        "\n",
        "        for l in range(2, self.num_layers):\n",
        "            z = zs[-l]\n",
        "            sp = sigmoid_prime(z)\n",
        "            delta = cp.dot(self.weights[-l + 1].transpose(), delta) * sp\n",
        "            nabla_b[-l] = cp.sum(delta, axis=1, keepdims=True)\n",
        "            nabla_w[-l] = cp.dot(delta, activations[-l - 1].transpose())\n",
        "\n",
        "        return (nabla_b, nabla_w)\n",
        "\n",
        "    def evaluate(self, test_data):\n",
        "        \"\"\"Return the number of test inputs for which the neural\n",
        "        network outputs the correct result. Note that the neural\n",
        "        network's output is assumed to be the index of whichever\n",
        "        neuron in the final layer has the highest activation.\"\"\"\n",
        "        test_results = [(cp.argmax(self.feedforward(x)), y)\n",
        "                        for (x, y) in test_data]\n",
        "        return sum(int(x == y) for (x, y) in test_results)\n",
        "\n",
        "    def cost_derivative(self, output_activations, y):\n",
        "        \"\"\"Return the vector of partial derivatives \\partial C_x /\n",
        "        \\partial a for the output activations.\"\"\"\n",
        "        return (output_activations - y)\n",
        "\n",
        "#### Miscellaneous functions\n",
        "def sigmoid(z):\n",
        "    \"\"\"The sigmoid function.\"\"\"\n",
        "    return 1.0 / (1.0 + cp.exp(-z))\n",
        "\n",
        "def sigmoid_prime(z):\n",
        "    \"\"\"Derivative of the sigmoid function.\"\"\"\n",
        "    return sigmoid(z) * (1 - sigmoid(z))"
      ],
      "metadata": {
        "id": "bVVjXRv5ub2C"
      },
      "execution_count": null,
      "outputs": []
    },
    {
      "cell_type": "code",
      "source": [
        "network = Network([128*128, 30, 10])"
      ],
      "metadata": {
        "id": "Vd6ZtnEf4lNU"
      },
      "execution_count": null,
      "outputs": []
    },
    {
      "cell_type": "code",
      "source": [
        "training_data, validation_data, test_data = load_data_wrapper()"
      ],
      "metadata": {
        "id": "E4CeF5N5uwgc"
      },
      "execution_count": null,
      "outputs": []
    },
    {
      "cell_type": "code",
      "source": [
        "import cupy as cp\n",
        "import matplotlib.pyplot as plt\n",
        "\n",
        "def display_random_images(training_data, num_images=5):\n",
        "    indices = cp.random.choice(len(training_data), num_images, replace=False)\n",
        "\n",
        "    plt.figure(figsize=(10, 10))\n",
        "\n",
        "    for i, idx in enumerate(indices):\n",
        "        image, label = training_data[int(idx)]\n",
        "        image = cp.asnumpy(image).reshape((128, 128))\n",
        "\n",
        "        label_index = cp.argmax(label)\n",
        "\n",
        "        plt.subplot(1, num_images, i + 1)\n",
        "        plt.imshow(image, cmap='gray')\n",
        "        plt.title(f\"Label: {int(label_index)}\")\n",
        "        plt.axis('off')\n",
        "\n",
        "    plt.show()\n",
        "\n",
        "display_random_images(training_data, num_images=5)"
      ],
      "metadata": {
        "colab": {
          "base_uri": "https://localhost:8080/",
          "height": 192
        },
        "id": "KGHrAjChuzSB",
        "outputId": "d0d55d0f-e297-4ec3-cbcf-6249ac987d7b"
      },
      "execution_count": null,
      "outputs": [
        {
          "output_type": "display_data",
          "data": {
            "text/plain": [
              "<Figure size 1000x1000 with 5 Axes>"
            ],
            "image/png": "[encoded data removed]"
          },
          "metadata": {}
        }
      ]
    },
    {
      "cell_type": "code",
      "source": [
        "import time\n",
        "start_time = time.time()\n",
        "\n",
        "network.SGD(training_data, 10, 64, 3.0, test_data=test_data)\n",
        "\n",
        "end_time = time.time()\n",
        "elapsed_time = end_time - start_time\n",
        "\n",
        "print(f\"SGD execution time on GPU: {elapsed_time:.2f} seconds\")"
      ],
      "metadata": {
        "colab": {
          "base_uri": "https://localhost:8080/"
        },
        "id": "VXJPv5ZivEDm",
        "outputId": "d712cea3-66f8-4bcb-bed2-5441578bf2a2"
      },
      "execution_count": null,
      "outputs": [
        {
          "output_type": "stream",
          "name": "stdout",
          "text": [
            "Epoch 0: 2774 / 10000\n",
            "Epoch 1: 3243 / 10000\n",
            "Epoch 2: 6229 / 10000\n",
            "Epoch 3: 6876 / 10000\n",
            "Epoch 4: 7246 / 10000\n",
            "Epoch 5: 7743 / 10000\n",
            "Epoch 6: 8280 / 10000\n",
            "Epoch 7: 8323 / 10000\n",
            "Epoch 8: 8347 / 10000\n",
            "Epoch 9: 8615 / 10000\n",
            "SGD execution time on GPU: 66.99 seconds\n"
          ]
        }
      ]
    },
    {
      "cell_type": "code",
      "source": [
        "import time\n",
        "\n",
        "def predict_single_image(network, test_data, index):\n",
        "    x, true_label = test_data[index]\n",
        "    x = cp.array(x)\n",
        "\n",
        "    start_time = time.time()\n",
        "    output = network.feedforward(x)\n",
        "    end_time = time.time()\n",
        "\n",
        "    elapsed_time = end_time - start_time\n",
        "    print(f\"Prediction time: {elapsed_time:.5f}\")\n",
        "\n",
        "    predicted_label = cp.argmax(output).get()\n",
        "\n",
        "    return predicted_label, true_label\n",
        "\n",
        "\n",
        "index = 0\n",
        "image = cp.asnumpy(test_data[index][0])\n",
        "label = test_data[index][1]\n",
        "image = image.reshape(128, 128)\n",
        "\n",
        "plt.imshow(image, cmap='gray')\n",
        "plt.title(f\"Label: {label}\")\n",
        "plt.show()\n",
        "\n",
        "predicted_label, true_label = predict_single_image(network, test_data, index)\n",
        "\n",
        "print(f\"Predicted label: {predicted_label}\")\n",
        "print(f\"True label: {true_label}\")\n"
      ],
      "metadata": {
        "colab": {
          "base_uri": "https://localhost:8080/",
          "height": 507
        },
        "id": "lQkGbe7cvIkj",
        "outputId": "be13d3ce-63b3-476c-93d3-58c4f88450fc"
      },
      "execution_count": null,
      "outputs": [
        {
          "output_type": "display_data",
          "data": {
            "text/plain": [
              "<Figure size 640x480 with 1 Axes>"
            ],
            "image/png": "[encoded data removed]"
          },
          "metadata": {}
        },
        {
          "output_type": "stream",
          "name": "stdout",
          "text": [
            "Prediction time: 0.00092\n",
            "Predicted label: 7\n",
            "True label: 7\n"
          ]
        }
      ]
    },
    {
      "cell_type": "code",
      "source": [
        "import matplotlib.pyplot as plt\n",
        "\n",
        "cpu = 1004.14\n",
        "gpu = 66.99\n",
        "\n",
        "labels = ['CPU', 'GPU']\n",
        "times = [cpu, gpu]\n",
        "\n",
        "plt.figure(figsize=(8, 5))\n",
        "plt.bar(labels, times, color=['blue', 'green'])\n",
        "plt.title('Training Time Comparison')\n",
        "plt.xlabel('Implementation')\n",
        "plt.ylabel('Time (seconds)')\n",
        "plt.show()"
      ],
      "metadata": {
        "id": "4PrvMlzC2y0v",
        "colab": {
          "base_uri": "https://localhost:8080/",
          "height": 487
        },
        "outputId": "16ca82f4-f15b-4e20-e8a2-8ef4e5f0368f"
      },
      "execution_count": 2,
      "outputs": [
        {
          "output_type": "display_data",
          "data": {
            "text/plain": [
              "<Figure size 800x500 with 1 Axes>"
            ],
            "image/png": "[encoded data removed]"
          },
          "metadata": {}
        }
      ]
    }
  ],
  "metadata": {
    "colab": {
      "provenance": []
    },
    "kernelspec": {
      "display_name": "Python 3",
      "name": "python3"
    },
    "language_info": {
      "name": "python"
    }
  },
  "nbformat": 4,
  "nbformat_minor": 0
}