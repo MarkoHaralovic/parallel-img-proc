{
  "cells": [
    {
      "cell_type": "code",
      "source": [
        "#promjenite vrijeme izvodenja na gpu!\n",
        "import cupy as cp\n",
        "import numpy as np\n",
        "import cv2\n",
        "import time\n",
        "import matplotlib.pyplot as plt\n",
        "import skimage.io\n",
        "import cupyx\n",
        "from cupyx import scipy\n",
        "from cupyx.scipy.ndimage import convolve\n",
        "from cupyx.scipy.signal import convolve2d"
      ],
      "metadata": {
        "id": "Eklp0njeRsoS"
      },
      "execution_count": 28,
      "outputs": []
    },
    {
      "cell_type": "code",
      "source": [
        "#sobel s numpy\n",
        "def sobel_operator(image):\n",
        "    Kx = np.array([[1, 0, -1], [2, 0, -2], [1, 0, -1]])\n",
        "    Ky = np.array([[1, 2, 1], [0, 0, 0], [-1, -2, -1]])\n",
        "\n",
        "    Ix = cv2.filter2D(image, -1, Kx)\n",
        "    Iy = cv2.filter2D(image, -1, Ky)\n",
        "\n",
        "    G = np.sqrt(Ix**2 + Iy**2)\n",
        "    G = (G / G.max()) * 255\n",
        "    return G.astype(np.uint8)\n",
        "\n",
        "#sobel s cupy\n",
        "def gpu_sobel_operator(image):\n",
        "    Kx = cp.array([[1, 0, -1], [2, 0, -2], [1, 0, -1]]).reshape(3, 3, 1)\n",
        "    Ky = cp.array([[1, 2, 1], [0, 0, 0], [-1, -2, -1]]).reshape(3, 3, 1)\n",
        "\n",
        "    image_cp = cp.array(image)\n",
        "\n",
        "    Ix = convolve(image_cp, Kx, mode='constant')\n",
        "    Iy = convolve(image_cp, Ky, mode='constant')\n",
        "\n",
        "    G = np.sqrt(Ix**2 + Iy**2)\n",
        "    G = (G / G.max()) * 255\n",
        "    return G.astype(np.uint8)\n",
        "\n",
        "\n",
        "url = \"http://sipi.usc.edu/database/download.php?vol=misc&img=4.2.03\"\n",
        "image = skimage.io.imread(url)\n",
        "image = cv2.cvtColor(image, cv2.IMREAD_GRAYSCALE)\n",
        "\n",
        "# CPU execution time\n",
        "start_time = time.time()\n",
        "edges_cpu = sobel_operator(image)\n",
        "cpu_time = time.time() - start_time\n",
        "cv2.imwrite('edges_cpu.jpg', edges_cpu)\n",
        "print(f\"CPU execution time: {cpu_time} seconds\")\n",
        "\n",
        "# GPU execution time\n",
        "start_time = time.time()\n",
        "edges_gpu = gpu_sobel_operator(image)\n",
        "gpu_time = time.time() - start_time\n",
        "print(f\"GPU execution time: {gpu_time} seconds\")\n",
        "\n",
        "# Convert CuPy array to NumPy array for saving with OpenCV\n",
        "edges_gpu_np = cp.asnumpy(edges_gpu)\n",
        "cv2.imwrite('edges_gpu.jpg', edges_gpu_np)\n",
        "\n",
        "\"\"\"display\n",
        "plt.figure(figsize=(12, 4))\n",
        "\n",
        "plt.subplot(1, 3, 1)\n",
        "plt.title('Original Image')\n",
        "plt.imshow(image, cmap='gray')\n",
        "\n",
        "plt.subplot(1, 3, 2)\n",
        "plt.title('Edges (CPU)')\n",
        "plt.imshow(edges_cpu, cmap='gray')\n",
        "\n",
        "plt.subplot(1, 3, 3)\n",
        "plt.title('Edges (GPU)')\n",
        "plt.imshow(edges_gpu_np, cmap='gray')\"\"\"\n",
        "\n",
        "plt.show()\n",
        "\n",
        "labels = ['CPU', 'GPU']\n",
        "times = [cpu_time, gpu_time]\n",
        "\n",
        "plt.figure(figsize=(8, 5))\n",
        "plt.bar(labels, times, color=['blue', 'green'])\n",
        "plt.title('Execution Time Comparison')\n",
        "plt.xlabel('Implementation')\n",
        "plt.ylabel('Time (seconds)')\n",
        "plt.show()"
      ],
      "metadata": {
        "colab": {
          "base_uri": "https://localhost:8080/",
          "height": 522
        },
        "id": "kpFgIvVp6x1S",
        "outputId": "7a3fecf6-4ddb-4ae5-a5ca-59c70aca5c7e"
      },
      "execution_count": 31,
      "outputs": [
        {
          "output_type": "stream",
          "name": "stdout",
          "text": [
            "CPU execution time: 0.056713104248046875 seconds\n",
            "GPU execution time: 0.003832578659057617 seconds\n"
          ]
        },
        {
          "output_type": "display_data",
          "data": {
            "text/plain": [
              "<Figure size 800x500 with 1 Axes>"
            ],
            "image/png": "[encoded data removed]"
          },
          "metadata": {}
        }
      ]
    }
  ],
  "metadata": {
    "colab": {
      "provenance": [],
      "gpuType": "T4"
    },
    "kernelspec": {
      "display_name": "Python 3",
      "name": "python3"
    },
    "language_info": {
      "name": "python"
    },
    "accelerator": "GPU"
  },
  "nbformat": 4,
  "nbformat_minor": 0
}