{
  "cells": [
    {
      "cell_type": "code",
      "execution_count": 1,
      "metadata": {
        "id": "ZZ-zFO29dYol"
      },
      "outputs": [],
      "source": [
        "import numpy as np\n",
        "import cupy as cp\n",
        "import cupy.linalg\n",
        "import cv2\n",
        "import matplotlib.pyplot as plt\n",
        "from matplotlib.image import *\n",
        "import time\n",
        "import skimage.io"
      ]
    },
    {
      "cell_type": "code",
      "execution_count": 2,
      "metadata": {
        "id": "McI2th3o6_UF"
      },
      "outputs": [],
      "source": [
        "# Standard K-Means implementation\n",
        "\n",
        "def CPU_clusters(centroids, K, X):\n",
        "    clusters = [[] for i in range(K)]\n",
        "    for idx, sample in enumerate(X):\n",
        "        distances = np.empty(K)\n",
        "        # Calculating the distance between the sample and each centroid\n",
        "        distances = [np.linalg.norm(centroids[i] - sample) for i in range(K)]\n",
        "        # Finding the closest centroid\n",
        "        centroid_idx = np.argmin(distances)\n",
        "        # Creating a cluster by assigning samples to the closest centroid\n",
        "        clusters[centroid_idx].append(idx)\n",
        "    return clusters\n",
        "\n",
        "# Returns new centroids of the clusters after computing the means\n",
        "def CPU_means(clusters, K, X):\n",
        "  n = np.shape(X)[1]\n",
        "  centroids = np.empty((K, n))\n",
        "  for cluster_idx, cluster in enumerate(clusters):\n",
        "    centroids[cluster_idx] = np.mean(X[cluster], axis=0)\n",
        "  return centroids\n",
        "\n",
        "# Assigning a label to each sample\n",
        "# where the label represents the cluster the sample was assigned to\n",
        "def CPU_labels(clusters, X):\n",
        "    labels = np.empty(np.shape(X)[0])\n",
        "    for cluster_idx, cluster in enumerate(clusters):\n",
        "        for index in cluster:\n",
        "            labels[index] = cluster_idx\n",
        "    return labels"
      ]
    },
    {
      "cell_type": "code",
      "execution_count": 3,
      "metadata": {
        "id": "6iR9s76O7LjM"
      },
      "outputs": [],
      "source": [
        "def CPU_KMeans(X, K, max_iters):\n",
        "    m, n = np.shape(X)\n",
        "    centroids = np.empty((K, n))\n",
        "    # Initialize centroids by picking K random samples from the image\n",
        "    for i in range(K):\n",
        "        centroids[i] = X[np.random.choice(range(m))]\n",
        "    for i in range(max_iters):\n",
        "        # Create clusters\n",
        "        clusters = CPU_clusters(centroids, K, X)\n",
        "        prev_centroids = centroids\n",
        "        # Find new centroids by computing the means of each cluster\n",
        "        centroids = CPU_means(clusters, K, X)\n",
        "        # Check if the centroids have changed\n",
        "        change = prev_centroids - centroids\n",
        "        if not change.any():\n",
        "            break # Exit the loop if they've stayed the same\n",
        "        return CPU_labels(clusters, X), centroids\n"
      ]
    },
    {
      "cell_type": "code",
      "execution_count": 17,
      "metadata": {
        "id": "hFkl83nmdeXs"
      },
      "outputs": [],
      "source": [
        "url = \"http://sipi.usc.edu/database/preview/misc/5.3.02.png\"\n",
        "img = skimage.io.imread(url)\n",
        "img = cv2.cvtColor(img, cv2.COLOR_BGR2RGB)\n",
        "K = 3 # Number of clusters\n",
        "attempts=100 # Number of iterations"
      ]
    },
    {
      "cell_type": "code",
      "execution_count": 18,
      "metadata": {
        "colab": {
          "base_uri": "https://localhost:8080/"
        },
        "id": "QCe92a9D7RP-",
        "outputId": "3853bc49-6534-4e0b-ccb5-5a0855ab57fb"
      },
      "outputs": [
        {
          "output_type": "stream",
          "name": "stdout",
          "text": [
            "CPU execution time: 0.6738908290863037 seconds\n"
          ]
        }
      ],
      "source": [
        "pixel_values = img.reshape((-1, 3))\n",
        "pixel_values = np.float32(pixel_values)\n",
        "\n",
        "start_time = time.time()\n",
        "y_pred, centroids = CPU_KMeans(pixel_values, K, attempts)\n",
        "cpu_time = time.time() - start_time\n",
        "print(f\"CPU execution time: {cpu_time} seconds\")\n"
      ]
    },
    {
      "cell_type": "code",
      "execution_count": 19,
      "metadata": {
        "id": "YVlXzYKK7g8M"
      },
      "outputs": [],
      "source": [
        "# Visualizing the results\n",
        "\n",
        "centers = np.uint8(centroids)\n",
        "y_pred = y_pred.astype(int)\n",
        "np.unique(y_pred)\n",
        "labels = y_pred.flatten()\n",
        "segmented_image = centers[labels.flatten()]\n",
        "segmented_image = segmented_image.reshape(img.shape)\n",
        "#plt.imshow(segmented_image)\n",
        "#plt.show()"
      ]
    },
    {
      "cell_type": "code",
      "execution_count": 24,
      "metadata": {
        "id": "a0PNXB2k7lqQ"
      },
      "outputs": [],
      "source": [
        "# Since CUDA's array initialization is noticeably slower, the above code's\n",
        "# runtime will be longer if we simply replace numpy with cupy (as shown at the end)\n",
        "# the solution is implemented with cupy.get_array_module() instead\n",
        "\n",
        "\n",
        "# Parallel realization\n",
        "def GPU_KMeans(X, K, max_iter):\n",
        "    xp = cupy.get_array_module(X)\n",
        "    m, n = cp.shape(X)\n",
        "    X = cupy.asarray(X)\n",
        "    labels = xp.zeros(len(X))\n",
        "    centroids = cp.empty((K, n))\n",
        "    # Initialize centroids by picking K random samples from the image\n",
        "    x = cp.random.choice(range(m), K, replace=False)\n",
        "    centroids = X[x]\n",
        "    for i in range(max_iter):\n",
        "        # Finding labels for each sample\n",
        "        distances = xp.linalg.norm(X[:, None, :] - centroids[None, :, :], axis=2)\n",
        "        new_labels = xp.argmin(distances, axis=1)\n",
        "        if xp.all(new_labels == labels):\n",
        "            break # Exit the loop if none of the labels have changed\n",
        "        labels = new_labels\n",
        "        i = xp.arange(K)\n",
        "        # Finding new centroids for each cluster\n",
        "        mask = labels == i[:, None]\n",
        "        sums = xp.where(mask[:, :, None], X, 0).sum(axis=1)\n",
        "        counts = xp.count_nonzero(mask, axis=1).reshape((K, 1))\n",
        "        centroids = sums / counts\n",
        "    return centroids, labels"
      ]
    },
    {
      "cell_type": "code",
      "execution_count": 20,
      "metadata": {
        "colab": {
          "base_uri": "https://localhost:8080/"
        },
        "id": "9gq3-7SM7_Mu",
        "outputId": "a84d92ab-32d1-461c-b0fd-dbe01dc45697"
      },
      "outputs": [
        {
          "output_type": "stream",
          "name": "stdout",
          "text": [
            "GPU execution time: 0.02680230140686035 seconds\n"
          ]
        }
      ],
      "source": [
        "imgGPU = cp.asarray(img)\n",
        "pixel_values = cp.reshape(imgGPU, (-1, 3))\n",
        "pixel_values = pixel_values.astype(cp.float32)\n",
        "\n",
        "\n",
        "start_time = time.time()\n",
        "centroids, y_pred = GPU_KMeans(pixel_values, K, attempts)\n",
        "gpu_time = time.time() - start_time\n",
        "print(f\"GPU execution time: {gpu_time} seconds\")"
      ]
    },
    {
      "cell_type": "code",
      "execution_count": 21,
      "metadata": {
        "id": "roqkvdQ18J7W"
      },
      "outputs": [],
      "source": [
        "# Visualizing the results\n",
        "\n",
        "centroids = cp.asarray(centroids)\n",
        "centers = centroids.astype(cp.uint8)\n",
        "y_pred = y_pred.astype(int)\n",
        "cp.unique(y_pred)\n",
        "labels = y_pred.flatten()\n",
        "segmented_image = centers[labels.flatten()]\n",
        "segmented_image = segmented_image.reshape(img.shape)\n",
        "#plt.imshow(cp.asnumpy(segmented_image))\n",
        "#plt.show()"
      ]
    },
    {
      "cell_type": "code",
      "execution_count": 22,
      "metadata": {
        "colab": {
          "base_uri": "https://localhost:8080/",
          "height": 487
        },
        "id": "tsn2RKae-2yz",
        "outputId": "1a3ac321-1e34-40d7-a033-84a96da07173"
      },
      "outputs": [
        {
          "output_type": "display_data",
          "data": {
            "text/plain": [
              "<Figure size 800x500 with 1 Axes>"
            ],
            "image/png": "[encoded data removed]"
          },
          "metadata": {}
        }
      ],
      "source": [
        "labels = ['CPU', 'GPU']\n",
        "times = [cpu_time, gpu_time]\n",
        "\n",
        "plt.figure(figsize=(8, 5))\n",
        "plt.bar(labels, times, color=['blue', 'green'])\n",
        "plt.title('Execution Time Comparison')\n",
        "plt.xlabel('Implementation')\n",
        "plt.ylabel('Time (seconds)')\n",
        "plt.show()"
      ]
    },
    {
      "cell_type": "code",
      "source": [
        "# The slower variant where numpy is replaced with cupy\n",
        "def GPU_clusters(centroids, K, X):\n",
        "    clusters = [[] for i in range(K)]\n",
        "    for idx, sample in enumerate(X):\n",
        "        distances = [cp.linalg.norm(centroids[i] - sample) for i in range(K)]\n",
        "        distances = cp.asarray(distances)\n",
        "        centroid_idx = cp.argmin(distances)\n",
        "        centroid_idx = int(centroid_idx)\n",
        "        clusters[centroid_idx].append(idx)\n",
        "    return clusters\n",
        "\n",
        "def GPU_means(clusters, K, X):\n",
        "    n = cp.shape(X)[1]\n",
        "    centroids = cp.empty((K, n))\n",
        "    for cluster_idx, cluster in enumerate(clusters):\n",
        "        centroids[cluster_idx] = cp.mean(X[cluster], axis=0)\n",
        "    return centroids\n",
        "\n",
        "def GPU_labels(clusters, X):\n",
        "    labels = cp.empty(cp.shape(X)[0])\n",
        "    for cluster_idx, cluster in enumerate(clusters):\n",
        "        for index in cluster:\n",
        "            labels[index] = cluster_idx\n",
        "    return labels\n",
        "\n",
        "def slowerGPU_KMeans(X, K, max_iters):\n",
        "    # initializing centroids\n",
        "    m, n = cp.shape(X)\n",
        "    centroids = cp.empty((K, n))\n",
        "    for i in range(K):\n",
        "        x = cp.random.choice(range(m), K, replace=False)\n",
        "        x = int(x[0])\n",
        "        centroids[int(i)] = X[x]\n",
        "    centroids = centroids.astype(cp.float32)\n",
        "    clusters = [[] for i in range(K)]\n",
        "    distances = cp.empty(K)\n",
        "    for i in range(max_iters):\n",
        "        clusters = GPU_clusters(centroids, K, X)\n",
        "        prev_centroids = centroids\n",
        "        centroids = GPU_means(clusters, K, X)\n",
        "        change = prev_centroids - centroids\n",
        "        if not change.any():\n",
        "            break\n",
        "            #return GPU_labels(clusters, X), centroids\n",
        "        return GPU_labels(clusters, X), centroids"
      ],
      "metadata": {
        "id": "8PAkNKGfrKSF"
      },
      "execution_count": 11,
      "outputs": []
    },
    {
      "cell_type": "code",
      "source": [
        "imgGPU = cp.asarray(img)\n",
        "pixel_values = cp.reshape(imgGPU, (-1, 3))\n",
        "pixel_values = pixel_values.astype(cp.float32)\n",
        "\n",
        "GPU_shape = pixel_values.shape\n",
        "start_time = time.time()\n",
        "y_pred, centroids = slowerGPU_KMeans(pixel_values, K, attempts)\n",
        "gpu_time = time.time() - start_time\n",
        "\n",
        "# Visualizing results\n",
        "centroids = cp.asarray(centroids)\n",
        "centers = centroids.astype(cp.uint8)\n",
        "y_pred = y_pred.astype(int)\n",
        "cp.unique(y_pred)\n",
        "labels = y_pred.flatten()\n",
        "segmented_image = centers[labels.flatten()]\n",
        "segmented_image = segmented_image.reshape(img.shape)\n",
        "#plt.imshow(cp.asnumpy(segmented_image))\n",
        "#plt.show()\n",
        "\n",
        "print(f\"GPU execution time: {gpu_time} seconds\")"
      ],
      "metadata": {
        "colab": {
          "base_uri": "https://localhost:8080/"
        },
        "id": "eyRSEk3WvcjM",
        "outputId": "e85ed2cd-1f10-4625-d215-74b62582740f"
      },
      "execution_count": 23,
      "outputs": [
        {
          "output_type": "stream",
          "name": "stdout",
          "text": [
            "GPU execution time: 19.041943311691284 seconds\n"
          ]
        }
      ]
    }
  ],
  "metadata": {
    "accelerator": "GPU",
    "colab": {
      "gpuType": "T4",
      "provenance": []
    },
    "kernelspec": {
      "display_name": "Python 3",
      "name": "python3"
    },
    "language_info": {
      "name": "python"
    }
  },
  "nbformat": 4,
  "nbformat_minor": 0
}